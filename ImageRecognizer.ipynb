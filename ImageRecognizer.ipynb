{
 "cells": [
  {
   "cell_type": "code",
   "execution_count": 1,
   "metadata": {},
   "outputs": [
    {
     "ename": "ModuleNotFoundError",
     "evalue": "No module named 'dlib'",
     "output_type": "error",
     "traceback": [
      "\u001b[1;31m---------------------------------------------------------------------------\u001b[0m",
      "\u001b[1;31mModuleNotFoundError\u001b[0m                       Traceback (most recent call last)",
      "\u001b[1;32m<ipython-input-1-91992c53ec88>\u001b[0m in \u001b[0;36m<module>\u001b[1;34m()\u001b[0m\n\u001b[0;32m      4\u001b[0m \u001b[1;32mimport\u001b[0m \u001b[0mpickle\u001b[0m\u001b[1;33m\u001b[0m\u001b[0m\n\u001b[0;32m      5\u001b[0m \u001b[1;32mfrom\u001b[0m \u001b[0mPIL\u001b[0m \u001b[1;32mimport\u001b[0m \u001b[0mImage\u001b[0m\u001b[1;33m,\u001b[0m \u001b[0mImageFont\u001b[0m\u001b[1;33m,\u001b[0m \u001b[0mImageDraw\u001b[0m\u001b[1;33m,\u001b[0m \u001b[0mImageEnhance\u001b[0m\u001b[1;33m\u001b[0m\u001b[0m\n\u001b[1;32m----> 6\u001b[1;33m \u001b[1;32mimport\u001b[0m \u001b[0mface_recognition\u001b[0m\u001b[1;33m\u001b[0m\u001b[0m\n\u001b[0m\u001b[0;32m      7\u001b[0m \u001b[1;32mfrom\u001b[0m \u001b[0mface_recognition\u001b[0m \u001b[1;32mimport\u001b[0m \u001b[0mface_locations\u001b[0m\u001b[1;33m\u001b[0m\u001b[0m\n\u001b[0;32m      8\u001b[0m \u001b[1;32mfrom\u001b[0m \u001b[0mface_recognition\u001b[0m\u001b[1;33m.\u001b[0m\u001b[0mcli\u001b[0m \u001b[1;32mimport\u001b[0m \u001b[0mimage_files_in_folder\u001b[0m\u001b[1;33m\u001b[0m\u001b[0m\n",
      "\u001b[1;32m~\\Anaconda3\\lib\\site-packages\\face_recognition\\__init__.py\u001b[0m in \u001b[0;36m<module>\u001b[1;34m()\u001b[0m\n\u001b[0;32m      5\u001b[0m \u001b[0m__version__\u001b[0m \u001b[1;33m=\u001b[0m \u001b[1;34m'1.2.2'\u001b[0m\u001b[1;33m\u001b[0m\u001b[0m\n\u001b[0;32m      6\u001b[0m \u001b[1;33m\u001b[0m\u001b[0m\n\u001b[1;32m----> 7\u001b[1;33m \u001b[1;32mfrom\u001b[0m \u001b[1;33m.\u001b[0m\u001b[0mapi\u001b[0m \u001b[1;32mimport\u001b[0m \u001b[0mload_image_file\u001b[0m\u001b[1;33m,\u001b[0m \u001b[0mface_locations\u001b[0m\u001b[1;33m,\u001b[0m \u001b[0mbatch_face_locations\u001b[0m\u001b[1;33m,\u001b[0m \u001b[0mface_landmarks\u001b[0m\u001b[1;33m,\u001b[0m \u001b[0mface_encodings\u001b[0m\u001b[1;33m,\u001b[0m \u001b[0mcompare_faces\u001b[0m\u001b[1;33m,\u001b[0m \u001b[0mface_distance\u001b[0m\u001b[1;33m\u001b[0m\u001b[0m\n\u001b[0m",
      "\u001b[1;32m~\\Anaconda3\\lib\\site-packages\\face_recognition\\api.py\u001b[0m in \u001b[0;36m<module>\u001b[1;34m()\u001b[0m\n\u001b[0;32m      2\u001b[0m \u001b[1;33m\u001b[0m\u001b[0m\n\u001b[0;32m      3\u001b[0m \u001b[1;32mimport\u001b[0m \u001b[0mPIL\u001b[0m\u001b[1;33m.\u001b[0m\u001b[0mImage\u001b[0m\u001b[1;33m\u001b[0m\u001b[0m\n\u001b[1;32m----> 4\u001b[1;33m \u001b[1;32mimport\u001b[0m \u001b[0mdlib\u001b[0m\u001b[1;33m\u001b[0m\u001b[0m\n\u001b[0m\u001b[0;32m      5\u001b[0m \u001b[1;32mimport\u001b[0m \u001b[0mnumpy\u001b[0m \u001b[1;32mas\u001b[0m \u001b[0mnp\u001b[0m\u001b[1;33m\u001b[0m\u001b[0m\n\u001b[0;32m      6\u001b[0m \u001b[1;33m\u001b[0m\u001b[0m\n",
      "\u001b[1;31mModuleNotFoundError\u001b[0m: No module named 'dlib'"
     ]
    }
   ],
   "source": [
    "from math import sqrt\n",
    "from sklearn import neighbors\n",
    "import os\n",
    "import pickle\n",
    "from PIL import Image, ImageFont, ImageDraw, ImageEnhance\n",
    "import face_recognition\n",
    "from face_recognition import face_locations\n",
    "from face_recognition.cli import image_files_in_folder\n",
    "import cv2\n",
    "import argparse\n",
    "import time\n",
    "import sys"
   ]
  },
  {
   "cell_type": "code",
   "execution_count": null,
   "metadata": {},
   "outputs": [],
   "source": [
    "class ImageRecog():\n",
    "    def __init__(self, label_name = 'generic'):\n",
    "        self.cascade_path = \"haarcascade_frontalface_default.xml\"\n",
    "        self.face_cascade = cv2.CascadeClassifier(self.cascade_path)\n",
    "        self._training_dir = None\n",
    "        self._extracton_folder = None\n",
    "        self._image_folder = None\n",
    "        self._label_name = label_name\n",
    "    \n",
    "    def get_folder_contents(self, folder_path):\n",
    "        return os.listdir(folder_path)\n",
    "    \n",
    "    def train(self, training_dir, n_neighbors = None, knn_algo = 'ball_tree', \n",
    "            image_face_only = False, sample_size = 200):\n",
    "        X = []\n",
    "        y = []\n",
    "        train_dir = self._training_dir\n",
    "        \n",
    "        files = self.get_folder_contents(training_dir)\n",
    "        print(\"Number of files found : %d\" % len(files))\n",
    "        for image_file in files:\n",
    "            image_file_full_path = os.path.join(training_dir, image_file)\n",
    "            image = face_recognition.load_image_file(image_file_full_path)\n",
    "            faces_bboxes = face_locations(image)\n",
    "            if faces_bboxes:\n",
    "                X.append(face_recognition.face_encodings(image, known_face_locations=faces_bboxes)[0])\n",
    "                y.append(self._label_name)\n",
    "        \n",
    "        if n_neighbors is None:\n",
    "            n_neighbors = int(round(sqrt(len(X))))\n",
    "            print(\"Chose n_neighbors automatically as:\", n_neighbors)\n",
    "\n",
    "        knn_clf = neighbors.KNeighborsClassifier(n_neighbors=n_neighbors, algorithm=knn_algo, weights='distance')        \n",
    "        knn_clf.fit(X, y)\n",
    "        return knn_clf\n",
    "    \n",
    "    def predict(self, classifier, image_path, DIST_THRESH = .5):\n",
    "        X_img = face_recognition.load_image_file(image_path)\n",
    "        X_faces_loc = face_locations(X_img)\n",
    "        if len(X_faces_loc) == 0:\n",
    "            return []\n",
    "        knn_clf = classifier\n",
    "        faces_encodings = face_recognition.face_encodings(X_img, known_face_locations=X_faces_loc)\n",
    "        closest_distances = knn_clf.kneighbors(faces_encodings, n_neighbors=1)\n",
    "        is_recognized = [closest_distances[0][i][0] <= DIST_THRESH for i in range(len(X_faces_loc))]\n",
    "     \n",
    "        # predict classes and cull classifications that are not with high confidence\n",
    "        result = [(pred, loc) if rec else (\"N/A\", loc) for pred, loc, rec in zip(knn_clf.predict(faces_encodings), X_faces_loc, is_recognized)]\n",
    "        return result\n",
    "    \n",
    "    def cluster_prediction(self, classifier, image_folder):\n",
    "        relocate_folder = 'cluster'\n",
    "        files = self.get_folder_contents(image_folder)\n",
    "        for image_file in files:\n",
    "            image_file_full_path = os.path.join(image_folder, image_file)\n",
    "            if os.path.isdir(image_file_full_path):\n",
    "                continue\n",
    "            result = self.predict(classifier, image_file_full_path)\n",
    "            if result:\n",
    "                name = result[0][0]\n",
    "                if name == self._label_name:\n",
    "                    new_location = os.path.join(image_folder, relocate_folder, image_file)\n",
    "                    os.rename(image_file_full_path, new_location)\n",
    "            \n",
    "        "
   ]
  },
  {
   "cell_type": "code",
   "execution_count": null,
   "metadata": {},
   "outputs": [],
   "source": [
    "print(\"Starting...\")\n",
    "ob = ImageRecog(label_name='Actor')\n",
    "clf = ob.train(r\"E:\\Downloads\\Training Stuff\\Video Training\\Janet Mason\\Training\")\n",
    "ob.cluster_prediction(clf, r\"E:\\Downloads\\Training Stuff\\Test Data\\\")"
   ]
  },
  {
   "cell_type": "code",
   "execution_count": null,
   "metadata": {},
   "outputs": [],
   "source": []
  },
  {
   "cell_type": "code",
   "execution_count": null,
   "metadata": {},
   "outputs": [],
   "source": []
  }
 ],
 "metadata": {
  "kernelspec": {
   "display_name": "Python 3",
   "language": "python",
   "name": "python3"
  },
  "language_info": {
   "codemirror_mode": {
    "name": "ipython",
    "version": 3
   },
   "file_extension": ".py",
   "mimetype": "text/x-python",
   "name": "python",
   "nbconvert_exporter": "python",
   "pygments_lexer": "ipython3",
   "version": "3.6.4"
  }
 },
 "nbformat": 4,
 "nbformat_minor": 2
}
