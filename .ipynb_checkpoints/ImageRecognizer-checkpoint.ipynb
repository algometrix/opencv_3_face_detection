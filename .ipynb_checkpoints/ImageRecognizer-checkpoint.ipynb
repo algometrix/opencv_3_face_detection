{
 "cells": [
  {
   "cell_type": "code",
   "execution_count": 1,
   "metadata": {},
   "outputs": [],
   "source": [
    "from math import sqrt\n",
    "from sklearn import neighbors\n",
    "import os\n",
    "import pickle\n",
    "from PIL import Image, ImageFont, ImageDraw, ImageEnhance\n",
    "import face_recognition\n",
    "from face_recognition import face_locations\n",
    "from face_recognition.cli import image_files_in_folder\n",
    "import cv2\n",
    "import argparse\n",
    "import time\n",
    "import sys"
   ]
  },
  {
   "cell_type": "code",
   "execution_count": 4,
   "metadata": {},
   "outputs": [],
   "source": [
    "class ImageRecog():\n",
    "    def __init__(self, label_name = 'generic'):\n",
    "        self.cascade_path = \"haarcascade_frontalface_default.xml\"\n",
    "        self.face_cascade = cv2.CascadeClassifier(self.cascade_path)\n",
    "        self._training_dir = None\n",
    "        self._extracton_folder = None\n",
    "        self._image_folder = None\n",
    "        self._label_name = label_name\n",
    "    \n",
    "    def get_folder_contents(self, folder_path):\n",
    "        return os.listdir(folder_path)\n",
    "    \n",
    "    def train(self, training_dir, n_neighbors = None, knn_algo = 'ball_tree', \n",
    "            image_face_only = False, sample_size = 200):\n",
    "        X = []\n",
    "        y = []\n",
    "        train_dir = self._training_dir\n",
    "        model_save_path = 'local.models'\n",
    "        \n",
    "        files = self.get_folder_contents(training_dir)\n",
    "        print(\"Number of files found : %d\" % len(files))\n",
    "        for image_file in files:\n",
    "            image_file_full_path = os.path.join(training_dir, image_file)\n",
    "            image = face_recognition.load_image_file(image_file_full_path)\n",
    "            faces_bboxes = face_locations(image)\n",
    "            if faces_bboxes:\n",
    "                X.append(face_recognition.face_encodings(image, known_face_locations=faces_bboxes)[0])\n",
    "                y.append(self._label_name)\n",
    "        \n",
    "        if n_neighbors is None:\n",
    "            n_neighbors = int(round(sqrt(len(X))))\n",
    "            print(\"Chose n_neighbors automatically as:\", n_neighbors)\n",
    "\n",
    "        knn_clf = neighbors.KNeighborsClassifier(n_neighbors=n_neighbors, algorithm=knn_algo, weights='distance')        \n",
    "        knn_clf.fit(X, y)\n",
    "        return knn_clf\n",
    "    \n",
    "    def predict(self, classifier, image_path, DIST_THRESH = .5):\n",
    "        X_img = face_recognition.load_image_file(image_path)\n",
    "        X_faces_loc = face_locations(X_img)\n",
    "        if len(X_faces_loc) == 0:\n",
    "            return []\n",
    "        knn_clf = classifier\n",
    "        faces_encodings = face_recognition.face_encodings(X_img, known_face_locations=X_faces_loc)\n",
    "        closest_distances = knn_clf.kneighbors(faces_encodings, n_neighbors=1)\n",
    "        is_recognized = [closest_distances[0][i][0] <= DIST_THRESH for i in range(len(X_faces_loc))]\n",
    "     \n",
    "        # predict classes and cull classifications that are not with high confidence\n",
    "        result = [(pred, loc) if rec else (\"N/A\", loc) for pred, loc, rec in zip(knn_clf.predict(faces_encodings), X_faces_loc, is_recognized)]\n",
    "        return result\n",
    "    \n",
    "    def cluster_prediction(self, classifier, image_folder):\n",
    "        relocate_folder = 'cluster'\n",
    "        files = self.get_folder_contents(image_folder)\n",
    "        for image_file in files:\n",
    "            image_file_full_path = os.path.join(image_folder, image_file)\n",
    "            if os.path.isdir(image_file_full_path):\n",
    "                continue\n",
    "            result = self.predict(classifier, image_file_full_path)\n",
    "            if result:\n",
    "                name = result[0][0]\n",
    "                if name == self._label_name:\n",
    "                    new_location = os.path.join(image_folder, relocate_folder, image_file)\n",
    "                    os.rename(image_file_full_path, new_location)\n",
    "            \n",
    "        "
   ]
  },
  {
   "cell_type": "code",
   "execution_count": null,
   "metadata": {},
   "outputs": [
    {
     "name": "stdout",
     "output_type": "stream",
     "text": [
      "Starting...\n",
      "Number of files found : 19\n",
      "Chose n_neighbors automatically as: 4\n"
     ]
    }
   ],
   "source": [
    "print(\"Starting...\")\n",
    "ob = ImageRecog(label_name='Actor')\n",
    "clf = ob.train(r'E:\\Downloads\\Training Stuff\\Test Data\\RC')\n",
    "ob.cluster_prediction(clf, r\"E:\\Downloads\\Training Stuff\\Test Data\\\")"
   ]
  },
  {
   "cell_type": "code",
   "execution_count": null,
   "metadata": {},
   "outputs": [],
   "source": []
  },
  {
   "cell_type": "code",
   "execution_count": null,
   "metadata": {},
   "outputs": [],
   "source": []
  }
 ],
 "metadata": {
  "kernelspec": {
   "display_name": "Python 3",
   "language": "python",
   "name": "python3"
  },
  "language_info": {
   "codemirror_mode": {
    "name": "ipython",
    "version": 3
   },
   "file_extension": ".py",
   "mimetype": "text/x-python",
   "name": "python",
   "nbconvert_exporter": "python",
   "pygments_lexer": "ipython3",
   "version": "3.6.4"
  }
 },
 "nbformat": 4,
 "nbformat_minor": 2
}
